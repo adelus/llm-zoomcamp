{
 "cells": [
  {
   "cell_type": "code",
   "execution_count": 1,
   "id": "52e8874e-2242-4560-a7bc-21689e5061f6",
   "metadata": {},
   "outputs": [],
   "source": [
    "import openai"
   ]
  },
  {
   "cell_type": "code",
   "execution_count": 2,
   "id": "6772ee32-9045-462b-8e24-ffca4b34d23b",
   "metadata": {},
   "outputs": [],
   "source": [
    "from openai import OpenAI"
   ]
  },
  {
   "cell_type": "code",
   "execution_count": 3,
   "id": "0c335eb8-78cc-4cc1-9989-0b4893821ca2",
   "metadata": {},
   "outputs": [],
   "source": [
    "client = OpenAI ()"
   ]
  },
  {
   "cell_type": "code",
   "execution_count": 10,
   "id": "4f2343d5-4c75-4379-a090-39546e3debda",
   "metadata": {},
   "outputs": [],
   "source": [
    "import os"
   ]
  },
  {
   "cell_type": "code",
   "execution_count": 11,
   "id": "dee46ba2-a796-4197-ab9a-660687d7839f",
   "metadata": {},
   "outputs": [],
   "source": [
    "response = client.chat.completions. create (\n",
    "    model='gpt-4o',\n",
    "    messages = [{\"role\": \"user\", \"content\": \"is it too late to join the course?\"}]\n",
    ")"
   ]
  },
  {
   "cell_type": "code",
   "execution_count": 13,
   "id": "b554da9b-af65-49de-b3b8-eee05098e279",
   "metadata": {},
   "outputs": [
    {
     "data": {
      "text/plain": [
       "\"I'm sorry, but I need more information to provide a helpful answer. Could you please specify which course you're referring to? Additionally, knowing the start date, enrollment deadline, or the institution offering the course would be helpful.\""
      ]
     },
     "execution_count": 13,
     "metadata": {},
     "output_type": "execute_result"
    }
   ],
   "source": [
    "response.choices[0].message.content"
   ]
  },
  {
   "cell_type": "code",
   "execution_count": null,
   "id": "beb45b5d-db30-4dea-9d59-ce58f19c0c48",
   "metadata": {},
   "outputs": [],
   "source": []
  },
  {
   "cell_type": "code",
   "execution_count": null,
   "id": "cf4f7cfe-2039-4682-bc1c-49d1f22539d9",
   "metadata": {},
   "outputs": [],
   "source": []
  }
 ],
 "metadata": {
  "kernelspec": {
   "display_name": "Python 3 (ipykernel)",
   "language": "python",
   "name": "python3"
  },
  "language_info": {
   "codemirror_mode": {
    "name": "ipython",
    "version": 3
   },
   "file_extension": ".py",
   "mimetype": "text/x-python",
   "name": "python",
   "nbconvert_exporter": "python",
   "pygments_lexer": "ipython3",
   "version": "3.12.1"
  }
 },
 "nbformat": 4,
 "nbformat_minor": 5
}
